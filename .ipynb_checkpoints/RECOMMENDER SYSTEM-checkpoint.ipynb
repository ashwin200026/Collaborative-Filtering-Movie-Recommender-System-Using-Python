{
 "cells": [
  {
   "cell_type": "code",
   "execution_count": 1,
   "id": "7337b96e",
   "metadata": {},
   "outputs": [],
   "source": [
    "import pandas as pd\n",
    "import numpy as np\n",
    "from sklearn.preprocessing import LabelEncoder\n",
    "from sklearn.model_selection import KFold\n",
    "import matplotlib.pyplot as plt \n",
    "import time, math"
   ]
  },
  {
   "cell_type": "code",
   "execution_count": 2,
   "id": "6ae55a53",
   "metadata": {},
   "outputs": [],
   "source": [
    "names = ['user_id', 'item_id', 'rating', 'timestamp']\n",
    "ratings_df = pd.read_csv(\"C:/Users/ashwin s/Downloads/ml-100k/u.data\", sep='\\t', names=names)\n"
   ]
  },
  {
   "cell_type": "code",
   "execution_count": 30,
   "id": "f22eb817",
   "metadata": {},
   "outputs": [
    {
     "data": {
      "text/html": [
       "<div>\n",
       "<style scoped>\n",
       "    .dataframe tbody tr th:only-of-type {\n",
       "        vertical-align: middle;\n",
       "    }\n",
       "\n",
       "    .dataframe tbody tr th {\n",
       "        vertical-align: top;\n",
       "    }\n",
       "\n",
       "    .dataframe thead th {\n",
       "        text-align: right;\n",
       "    }\n",
       "</style>\n",
       "<table border=\"1\" class=\"dataframe\">\n",
       "  <thead>\n",
       "    <tr style=\"text-align: right;\">\n",
       "      <th></th>\n",
       "      <th>196\\t242\\t3\\t881250949</th>\n",
       "    </tr>\n",
       "  </thead>\n",
       "  <tbody>\n",
       "    <tr>\n",
       "      <th>0</th>\n",
       "      <td>186\\t302\\t3\\t891717742</td>\n",
       "    </tr>\n",
       "    <tr>\n",
       "      <th>1</th>\n",
       "      <td>22\\t377\\t1\\t878887116</td>\n",
       "    </tr>\n",
       "    <tr>\n",
       "      <th>2</th>\n",
       "      <td>244\\t51\\t2\\t880606923</td>\n",
       "    </tr>\n",
       "    <tr>\n",
       "      <th>3</th>\n",
       "      <td>166\\t346\\t1\\t886397596</td>\n",
       "    </tr>\n",
       "    <tr>\n",
       "      <th>4</th>\n",
       "      <td>298\\t474\\t4\\t884182806</td>\n",
       "    </tr>\n",
       "    <tr>\n",
       "      <th>...</th>\n",
       "      <td>...</td>\n",
       "    </tr>\n",
       "    <tr>\n",
       "      <th>99994</th>\n",
       "      <td>880\\t476\\t3\\t880175444</td>\n",
       "    </tr>\n",
       "    <tr>\n",
       "      <th>99995</th>\n",
       "      <td>716\\t204\\t5\\t879795543</td>\n",
       "    </tr>\n",
       "    <tr>\n",
       "      <th>99996</th>\n",
       "      <td>276\\t1090\\t1\\t874795795</td>\n",
       "    </tr>\n",
       "    <tr>\n",
       "      <th>99997</th>\n",
       "      <td>13\\t225\\t2\\t882399156</td>\n",
       "    </tr>\n",
       "    <tr>\n",
       "      <th>99998</th>\n",
       "      <td>12\\t203\\t3\\t879959583</td>\n",
       "    </tr>\n",
       "  </tbody>\n",
       "</table>\n",
       "<p>99999 rows × 1 columns</p>\n",
       "</div>"
      ],
      "text/plain": [
       "        196\\t242\\t3\\t881250949\n",
       "0       186\\t302\\t3\\t891717742\n",
       "1        22\\t377\\t1\\t878887116\n",
       "2        244\\t51\\t2\\t880606923\n",
       "3       166\\t346\\t1\\t886397596\n",
       "4       298\\t474\\t4\\t884182806\n",
       "...                        ...\n",
       "99994   880\\t476\\t3\\t880175444\n",
       "99995   716\\t204\\t5\\t879795543\n",
       "99996  276\\t1090\\t1\\t874795795\n",
       "99997    13\\t225\\t2\\t882399156\n",
       "99998    12\\t203\\t3\\t879959583\n",
       "\n",
       "[99999 rows x 1 columns]"
      ]
     },
     "execution_count": 30,
     "metadata": {},
     "output_type": "execute_result"
    }
   ],
   "source": [
    "ratings_df1 = pd.read_csv(\"C:/Users/ashwin s/Downloads/ml-100k/u.data\")\n",
    "ratings_df1"
   ]
  },
  {
   "cell_type": "code",
   "execution_count": 3,
   "id": "b625e350",
   "metadata": {
    "scrolled": false
   },
   "outputs": [
    {
     "data": {
      "text/html": [
       "<div>\n",
       "<style scoped>\n",
       "    .dataframe tbody tr th:only-of-type {\n",
       "        vertical-align: middle;\n",
       "    }\n",
       "\n",
       "    .dataframe tbody tr th {\n",
       "        vertical-align: top;\n",
       "    }\n",
       "\n",
       "    .dataframe thead th {\n",
       "        text-align: right;\n",
       "    }\n",
       "</style>\n",
       "<table border=\"1\" class=\"dataframe\">\n",
       "  <thead>\n",
       "    <tr style=\"text-align: right;\">\n",
       "      <th></th>\n",
       "      <th>user_id</th>\n",
       "      <th>item_id</th>\n",
       "      <th>rating</th>\n",
       "      <th>timestamp</th>\n",
       "    </tr>\n",
       "  </thead>\n",
       "  <tbody>\n",
       "    <tr>\n",
       "      <th>0</th>\n",
       "      <td>196</td>\n",
       "      <td>242</td>\n",
       "      <td>3</td>\n",
       "      <td>881250949</td>\n",
       "    </tr>\n",
       "    <tr>\n",
       "      <th>1</th>\n",
       "      <td>186</td>\n",
       "      <td>302</td>\n",
       "      <td>3</td>\n",
       "      <td>891717742</td>\n",
       "    </tr>\n",
       "    <tr>\n",
       "      <th>2</th>\n",
       "      <td>22</td>\n",
       "      <td>377</td>\n",
       "      <td>1</td>\n",
       "      <td>878887116</td>\n",
       "    </tr>\n",
       "    <tr>\n",
       "      <th>3</th>\n",
       "      <td>244</td>\n",
       "      <td>51</td>\n",
       "      <td>2</td>\n",
       "      <td>880606923</td>\n",
       "    </tr>\n",
       "    <tr>\n",
       "      <th>4</th>\n",
       "      <td>166</td>\n",
       "      <td>346</td>\n",
       "      <td>1</td>\n",
       "      <td>886397596</td>\n",
       "    </tr>\n",
       "    <tr>\n",
       "      <th>...</th>\n",
       "      <td>...</td>\n",
       "      <td>...</td>\n",
       "      <td>...</td>\n",
       "      <td>...</td>\n",
       "    </tr>\n",
       "    <tr>\n",
       "      <th>99995</th>\n",
       "      <td>880</td>\n",
       "      <td>476</td>\n",
       "      <td>3</td>\n",
       "      <td>880175444</td>\n",
       "    </tr>\n",
       "    <tr>\n",
       "      <th>99996</th>\n",
       "      <td>716</td>\n",
       "      <td>204</td>\n",
       "      <td>5</td>\n",
       "      <td>879795543</td>\n",
       "    </tr>\n",
       "    <tr>\n",
       "      <th>99997</th>\n",
       "      <td>276</td>\n",
       "      <td>1090</td>\n",
       "      <td>1</td>\n",
       "      <td>874795795</td>\n",
       "    </tr>\n",
       "    <tr>\n",
       "      <th>99998</th>\n",
       "      <td>13</td>\n",
       "      <td>225</td>\n",
       "      <td>2</td>\n",
       "      <td>882399156</td>\n",
       "    </tr>\n",
       "    <tr>\n",
       "      <th>99999</th>\n",
       "      <td>12</td>\n",
       "      <td>203</td>\n",
       "      <td>3</td>\n",
       "      <td>879959583</td>\n",
       "    </tr>\n",
       "  </tbody>\n",
       "</table>\n",
       "<p>100000 rows × 4 columns</p>\n",
       "</div>"
      ],
      "text/plain": [
       "       user_id  item_id  rating  timestamp\n",
       "0          196      242       3  881250949\n",
       "1          186      302       3  891717742\n",
       "2           22      377       1  878887116\n",
       "3          244       51       2  880606923\n",
       "4          166      346       1  886397596\n",
       "...        ...      ...     ...        ...\n",
       "99995      880      476       3  880175444\n",
       "99996      716      204       5  879795543\n",
       "99997      276     1090       1  874795795\n",
       "99998       13      225       2  882399156\n",
       "99999       12      203       3  879959583\n",
       "\n",
       "[100000 rows x 4 columns]"
      ]
     },
     "execution_count": 3,
     "metadata": {},
     "output_type": "execute_result"
    }
   ],
   "source": [
    "ratings_df"
   ]
  },
  {
   "cell_type": "code",
   "execution_count": 4,
   "id": "2d9a2a9c",
   "metadata": {},
   "outputs": [
    {
     "data": {
      "text/plain": [
       "<bound method NDFrame.describe of        user_id  item_id  rating  timestamp\n",
       "0          196      242       3  881250949\n",
       "1          186      302       3  891717742\n",
       "2           22      377       1  878887116\n",
       "3          244       51       2  880606923\n",
       "4          166      346       1  886397596\n",
       "...        ...      ...     ...        ...\n",
       "99995      880      476       3  880175444\n",
       "99996      716      204       5  879795543\n",
       "99997      276     1090       1  874795795\n",
       "99998       13      225       2  882399156\n",
       "99999       12      203       3  879959583\n",
       "\n",
       "[100000 rows x 4 columns]>"
      ]
     },
     "execution_count": 4,
     "metadata": {},
     "output_type": "execute_result"
    }
   ],
   "source": [
    "ratings_df.describe"
   ]
  },
  {
   "cell_type": "code",
   "execution_count": 5,
   "id": "c9655dc3",
   "metadata": {},
   "outputs": [],
   "source": [
    "item_info = pd.read_csv(\"C:/Users/ashwin s/Downloads/ml-100k/u.item\", sep='|', header=None, usecols=[1],encoding='latin-1')   # Information about the items (keeps only movie's name)\n",
    "item_info.columns = ['title']"
   ]
  },
  {
   "cell_type": "code",
   "execution_count": 6,
   "id": "c8dcc258",
   "metadata": {},
   "outputs": [
    {
     "data": {
      "text/html": [
       "<div>\n",
       "<style scoped>\n",
       "    .dataframe tbody tr th:only-of-type {\n",
       "        vertical-align: middle;\n",
       "    }\n",
       "\n",
       "    .dataframe tbody tr th {\n",
       "        vertical-align: top;\n",
       "    }\n",
       "\n",
       "    .dataframe thead th {\n",
       "        text-align: right;\n",
       "    }\n",
       "</style>\n",
       "<table border=\"1\" class=\"dataframe\">\n",
       "  <thead>\n",
       "    <tr style=\"text-align: right;\">\n",
       "      <th></th>\n",
       "      <th>title</th>\n",
       "    </tr>\n",
       "  </thead>\n",
       "  <tbody>\n",
       "    <tr>\n",
       "      <th>0</th>\n",
       "      <td>Toy Story (1995)</td>\n",
       "    </tr>\n",
       "    <tr>\n",
       "      <th>1</th>\n",
       "      <td>GoldenEye (1995)</td>\n",
       "    </tr>\n",
       "    <tr>\n",
       "      <th>2</th>\n",
       "      <td>Four Rooms (1995)</td>\n",
       "    </tr>\n",
       "    <tr>\n",
       "      <th>3</th>\n",
       "      <td>Get Shorty (1995)</td>\n",
       "    </tr>\n",
       "    <tr>\n",
       "      <th>4</th>\n",
       "      <td>Copycat (1995)</td>\n",
       "    </tr>\n",
       "    <tr>\n",
       "      <th>...</th>\n",
       "      <td>...</td>\n",
       "    </tr>\n",
       "    <tr>\n",
       "      <th>1677</th>\n",
       "      <td>Mat' i syn (1997)</td>\n",
       "    </tr>\n",
       "    <tr>\n",
       "      <th>1678</th>\n",
       "      <td>B. Monkey (1998)</td>\n",
       "    </tr>\n",
       "    <tr>\n",
       "      <th>1679</th>\n",
       "      <td>Sliding Doors (1998)</td>\n",
       "    </tr>\n",
       "    <tr>\n",
       "      <th>1680</th>\n",
       "      <td>You So Crazy (1994)</td>\n",
       "    </tr>\n",
       "    <tr>\n",
       "      <th>1681</th>\n",
       "      <td>Scream of Stone (Schrei aus Stein) (1991)</td>\n",
       "    </tr>\n",
       "  </tbody>\n",
       "</table>\n",
       "<p>1682 rows × 1 columns</p>\n",
       "</div>"
      ],
      "text/plain": [
       "                                          title\n",
       "0                              Toy Story (1995)\n",
       "1                              GoldenEye (1995)\n",
       "2                             Four Rooms (1995)\n",
       "3                             Get Shorty (1995)\n",
       "4                                Copycat (1995)\n",
       "...                                         ...\n",
       "1677                          Mat' i syn (1997)\n",
       "1678                           B. Monkey (1998)\n",
       "1679                       Sliding Doors (1998)\n",
       "1680                        You So Crazy (1994)\n",
       "1681  Scream of Stone (Schrei aus Stein) (1991)\n",
       "\n",
       "[1682 rows x 1 columns]"
      ]
     },
     "execution_count": 6,
     "metadata": {},
     "output_type": "execute_result"
    }
   ],
   "source": [
    "item_info"
   ]
  },
  {
   "cell_type": "code",
   "execution_count": 7,
   "id": "f351b452",
   "metadata": {},
   "outputs": [
    {
     "data": {
      "text/html": [
       "<div>\n",
       "<style scoped>\n",
       "    .dataframe tbody tr th:only-of-type {\n",
       "        vertical-align: middle;\n",
       "    }\n",
       "\n",
       "    .dataframe tbody tr th {\n",
       "        vertical-align: top;\n",
       "    }\n",
       "\n",
       "    .dataframe thead th {\n",
       "        text-align: right;\n",
       "    }\n",
       "</style>\n",
       "<table border=\"1\" class=\"dataframe\">\n",
       "  <thead>\n",
       "    <tr style=\"text-align: right;\">\n",
       "      <th></th>\n",
       "      <th>user_id</th>\n",
       "      <th>item_id</th>\n",
       "      <th>rating</th>\n",
       "      <th>timestamp</th>\n",
       "    </tr>\n",
       "  </thead>\n",
       "  <tbody>\n",
       "    <tr>\n",
       "      <th>0</th>\n",
       "      <td>196</td>\n",
       "      <td>242</td>\n",
       "      <td>3</td>\n",
       "      <td>881250949</td>\n",
       "    </tr>\n",
       "    <tr>\n",
       "      <th>1</th>\n",
       "      <td>186</td>\n",
       "      <td>302</td>\n",
       "      <td>3</td>\n",
       "      <td>891717742</td>\n",
       "    </tr>\n",
       "    <tr>\n",
       "      <th>2</th>\n",
       "      <td>22</td>\n",
       "      <td>377</td>\n",
       "      <td>1</td>\n",
       "      <td>878887116</td>\n",
       "    </tr>\n",
       "    <tr>\n",
       "      <th>3</th>\n",
       "      <td>244</td>\n",
       "      <td>51</td>\n",
       "      <td>2</td>\n",
       "      <td>880606923</td>\n",
       "    </tr>\n",
       "    <tr>\n",
       "      <th>4</th>\n",
       "      <td>166</td>\n",
       "      <td>346</td>\n",
       "      <td>1</td>\n",
       "      <td>886397596</td>\n",
       "    </tr>\n",
       "  </tbody>\n",
       "</table>\n",
       "</div>"
      ],
      "text/plain": [
       "   user_id  item_id  rating  timestamp\n",
       "0      196      242       3  881250949\n",
       "1      186      302       3  891717742\n",
       "2       22      377       1  878887116\n",
       "3      244       51       2  880606923\n",
       "4      166      346       1  886397596"
      ]
     },
     "execution_count": 7,
     "metadata": {},
     "output_type": "execute_result"
    }
   ],
   "source": [
    "ratings_df.head()"
   ]
  },
  {
   "cell_type": "code",
   "execution_count": 8,
   "id": "b58ea975",
   "metadata": {},
   "outputs": [
    {
     "name": "stdout",
     "output_type": "stream",
     "text": [
      "943  users\n",
      "1682  items\n"
     ]
    }
   ],
   "source": [
    "n_users = len(ratings_df['user_id'].unique())\n",
    "n_items = len(ratings_df['item_id'].unique())\n",
    "R_shape = (n_users, n_items)\n",
    "print(str(n_users),' users')\n",
    "print(str(n_items), ' items')"
   ]
  },
  {
   "cell_type": "code",
   "execution_count": 9,
   "id": "785df873",
   "metadata": {},
   "outputs": [
    {
     "data": {
      "text/plain": [
       "count    100000.000000\n",
       "mean          3.529860\n",
       "std           1.125674\n",
       "min           1.000000\n",
       "25%           3.000000\n",
       "50%           4.000000\n",
       "75%           4.000000\n",
       "max           5.000000\n",
       "Name: rating, dtype: float64"
      ]
     },
     "execution_count": 9,
     "metadata": {},
     "output_type": "execute_result"
    }
   ],
   "source": [
    "ratings_df['rating'].describe()\n"
   ]
  },
  {
   "cell_type": "markdown",
   "id": "94c8ab62",
   "metadata": {},
   "source": [
    "# visualization"
   ]
  },
  {
   "cell_type": "code",
   "execution_count": 10,
   "id": "08b84a9b",
   "metadata": {},
   "outputs": [
    {
     "data": {
      "text/plain": [
       "Text(0.5, 1.0, 'Distribution of ratings')"
      ]
     },
     "execution_count": 10,
     "metadata": {},
     "output_type": "execute_result"
    },
    {
     "data": {
      "image/png": "[encoded data removed]",
      "text/plain": [
       "<Figure size 432x288 with 1 Axes>"
      ]
     },
     "metadata": {
      "needs_background": "light"
     },
     "output_type": "display_data"
    }
   ],
   "source": [
    "ratings_df['rating'].hist(grid=True)\n",
    "plt.xlabel('Rating')\n",
    "plt.ylabel('Frequency')\n",
    "plt.title('Distribution of ratings')\n"
   ]
  },
  {
   "cell_type": "code",
   "execution_count": 19,
   "id": "854bcf2e",
   "metadata": {
    "scrolled": true
   },
   "outputs": [
    {
     "data": {
      "text/plain": [
       "array([[5, 3, 4, ..., 0, 0, 0],\n",
       "       [4, 0, 0, ..., 0, 0, 0],\n",
       "       [0, 0, 0, ..., 0, 0, 0],\n",
       "       ...,\n",
       "       [5, 0, 0, ..., 0, 0, 0],\n",
       "       [0, 0, 0, ..., 0, 0, 0],\n",
       "       [0, 5, 0, ..., 0, 0, 0]], dtype=int64)"
      ]
     },
     "execution_count": 19,
     "metadata": {},
     "output_type": "execute_result"
    }
   ],
   "source": [
    "R"
   ]
  },
  {
   "cell_type": "markdown",
   "id": "d08c1ad5",
   "metadata": {},
   "source": [
    "# COMPREHENSIVE DATA VISUALIZATION "
   ]
  },
  {
   "cell_type": "code",
   "execution_count": 20,
   "id": "55d5e161",
   "metadata": {},
   "outputs": [],
   "source": [
    "rating_df= pd.read_csv(\"C:/Users/ashwin s/Downloads/ml-100k/u.data\", sep=\"\\t\", names=[\"user_id\", \"item_id\", \"rating\", \"timestamp\"])\n",
    "\n",
    "item_df = pd.read_csv(\"C:/Users/ashwin s/Downloads/ml-100k/u.item\", sep=\"|\",encoding=\"latin-1\", \n",
    "                      names=[\"movie_id\", \"movie_title\", \"release_date\", \"video_release_date\",\n",
    "                             \"imbd_url\", \"unknown\", \"action\", \"adventure\", \"animation\",\n",
    "                             \"childrens\", \"comedy\", \"crime\", \"documentary\", \"drama\", \"fantasy\", \n",
    "                             \"film_noir\", \"horror\", \"musical\", \"mystery\", \"romance\", \n",
    "                             \"sci-fi\", \"thriller\", \"war\", \"western\"])\n",
    "\n",
    "user_df = pd.read_csv(\"C:/Users/ashwin s/Downloads/ml-100k/u.user\", sep=\"|\", encoding=\"latin-1\", names=[\"user_id\", \"age\", \"gender\",\n",
    "                                                                            \"occupation\", \"zip_code\"])"
   ]
  },
  {
   "cell_type": "code",
   "execution_count": 21,
   "id": "bbf13835",
   "metadata": {
    "scrolled": true
   },
   "outputs": [
    {
     "data": {
      "text/html": [
       "<div>\n",
       "<style scoped>\n",
       "    .dataframe tbody tr th:only-of-type {\n",
       "        vertical-align: middle;\n",
       "    }\n",
       "\n",
       "    .dataframe tbody tr th {\n",
       "        vertical-align: top;\n",
       "    }\n",
       "\n",
       "    .dataframe thead th {\n",
       "        text-align: right;\n",
       "    }\n",
       "</style>\n",
       "<table border=\"1\" class=\"dataframe\">\n",
       "  <thead>\n",
       "    <tr style=\"text-align: right;\">\n",
       "      <th></th>\n",
       "      <th>user_id</th>\n",
       "      <th>age</th>\n",
       "      <th>gender</th>\n",
       "      <th>occupation</th>\n",
       "      <th>zip_code</th>\n",
       "      <th>item_id</th>\n",
       "      <th>rating</th>\n",
       "      <th>timestamp</th>\n",
       "      <th>movie_id</th>\n",
       "      <th>movie_title</th>\n",
       "      <th>...</th>\n",
       "      <th>fantasy</th>\n",
       "      <th>film_noir</th>\n",
       "      <th>horror</th>\n",
       "      <th>musical</th>\n",
       "      <th>mystery</th>\n",
       "      <th>romance</th>\n",
       "      <th>sci-fi</th>\n",
       "      <th>thriller</th>\n",
       "      <th>war</th>\n",
       "      <th>western</th>\n",
       "    </tr>\n",
       "  </thead>\n",
       "  <tbody>\n",
       "    <tr>\n",
       "      <th>0</th>\n",
       "      <td>1</td>\n",
       "      <td>24</td>\n",
       "      <td>M</td>\n",
       "      <td>technician</td>\n",
       "      <td>85711</td>\n",
       "      <td>61</td>\n",
       "      <td>4</td>\n",
       "      <td>878542420</td>\n",
       "      <td>61</td>\n",
       "      <td>Three Colors: White (1994)</td>\n",
       "      <td>...</td>\n",
       "      <td>0</td>\n",
       "      <td>0</td>\n",
       "      <td>0</td>\n",
       "      <td>0</td>\n",
       "      <td>0</td>\n",
       "      <td>0</td>\n",
       "      <td>0</td>\n",
       "      <td>0</td>\n",
       "      <td>0</td>\n",
       "      <td>0</td>\n",
       "    </tr>\n",
       "    <tr>\n",
       "      <th>1</th>\n",
       "      <td>1</td>\n",
       "      <td>24</td>\n",
       "      <td>M</td>\n",
       "      <td>technician</td>\n",
       "      <td>85711</td>\n",
       "      <td>189</td>\n",
       "      <td>3</td>\n",
       "      <td>888732928</td>\n",
       "      <td>189</td>\n",
       "      <td>Grand Day Out, A (1992)</td>\n",
       "      <td>...</td>\n",
       "      <td>0</td>\n",
       "      <td>0</td>\n",
       "      <td>0</td>\n",
       "      <td>0</td>\n",
       "      <td>0</td>\n",
       "      <td>0</td>\n",
       "      <td>0</td>\n",
       "      <td>0</td>\n",
       "      <td>0</td>\n",
       "      <td>0</td>\n",
       "    </tr>\n",
       "    <tr>\n",
       "      <th>2</th>\n",
       "      <td>1</td>\n",
       "      <td>24</td>\n",
       "      <td>M</td>\n",
       "      <td>technician</td>\n",
       "      <td>85711</td>\n",
       "      <td>33</td>\n",
       "      <td>4</td>\n",
       "      <td>878542699</td>\n",
       "      <td>33</td>\n",
       "      <td>Desperado (1995)</td>\n",
       "      <td>...</td>\n",
       "      <td>0</td>\n",
       "      <td>0</td>\n",
       "      <td>0</td>\n",
       "      <td>0</td>\n",
       "      <td>0</td>\n",
       "      <td>1</td>\n",
       "      <td>0</td>\n",
       "      <td>1</td>\n",
       "      <td>0</td>\n",
       "      <td>0</td>\n",
       "    </tr>\n",
       "    <tr>\n",
       "      <th>3</th>\n",
       "      <td>1</td>\n",
       "      <td>24</td>\n",
       "      <td>M</td>\n",
       "      <td>technician</td>\n",
       "      <td>85711</td>\n",
       "      <td>160</td>\n",
       "      <td>4</td>\n",
       "      <td>875072547</td>\n",
       "      <td>160</td>\n",
       "      <td>Glengarry Glen Ross (1992)</td>\n",
       "      <td>...</td>\n",
       "      <td>0</td>\n",
       "      <td>0</td>\n",
       "      <td>0</td>\n",
       "      <td>0</td>\n",
       "      <td>0</td>\n",
       "      <td>0</td>\n",
       "      <td>0</td>\n",
       "      <td>0</td>\n",
       "      <td>0</td>\n",
       "      <td>0</td>\n",
       "    </tr>\n",
       "    <tr>\n",
       "      <th>4</th>\n",
       "      <td>1</td>\n",
       "      <td>24</td>\n",
       "      <td>M</td>\n",
       "      <td>technician</td>\n",
       "      <td>85711</td>\n",
       "      <td>20</td>\n",
       "      <td>4</td>\n",
       "      <td>887431883</td>\n",
       "      <td>20</td>\n",
       "      <td>Angels and Insects (1995)</td>\n",
       "      <td>...</td>\n",
       "      <td>0</td>\n",
       "      <td>0</td>\n",
       "      <td>0</td>\n",
       "      <td>0</td>\n",
       "      <td>0</td>\n",
       "      <td>1</td>\n",
       "      <td>0</td>\n",
       "      <td>0</td>\n",
       "      <td>0</td>\n",
       "      <td>0</td>\n",
       "    </tr>\n",
       "  </tbody>\n",
       "</table>\n",
       "<p>5 rows × 32 columns</p>\n",
       "</div>"
      ],
      "text/plain": [
       "   user_id  age gender  occupation zip_code  item_id  rating  timestamp  \\\n",
       "0        1   24      M  technician    85711       61       4  878542420   \n",
       "1        1   24      M  technician    85711      189       3  888732928   \n",
       "2        1   24      M  technician    85711       33       4  878542699   \n",
       "3        1   24      M  technician    85711      160       4  875072547   \n",
       "4        1   24      M  technician    85711       20       4  887431883   \n",
       "\n",
       "   movie_id                 movie_title  ... fantasy  film_noir horror  \\\n",
       "0        61  Three Colors: White (1994)  ...       0          0      0   \n",
       "1       189     Grand Day Out, A (1992)  ...       0          0      0   \n",
       "2        33            Desperado (1995)  ...       0          0      0   \n",
       "3       160  Glengarry Glen Ross (1992)  ...       0          0      0   \n",
       "4        20   Angels and Insects (1995)  ...       0          0      0   \n",
       "\n",
       "   musical  mystery  romance  sci-fi  thriller  war  western  \n",
       "0        0        0        0       0         0    0        0  \n",
       "1        0        0        0       0         0    0        0  \n",
       "2        0        0        1       0         1    0        0  \n",
       "3        0        0        0       0         0    0        0  \n",
       "4        0        0        1       0         0    0        0  \n",
       "\n",
       "[5 rows x 32 columns]"
      ]
     },
     "execution_count": 21,
     "metadata": {},
     "output_type": "execute_result"
    }
   ],
   "source": [
    "full_df = pd.merge(user_df, rating_df, how=\"left\", on=\"user_id\")\n",
    "full_df = pd.merge(full_df, item_df, how=\"left\", right_on=\"movie_id\", left_on=\"item_id\")\n",
    "full_df.head()"
   ]
  },
  {
   "cell_type": "code",
   "execution_count": 22,
   "id": "fd6613c8",
   "metadata": {
    "scrolled": true
   },
   "outputs": [
    {
     "data": {
      "image/png": "[encoded data removed]",
      "text/plain": [
       "<Figure size 864x360 with 1 Axes>"
      ]
     },
     "metadata": {
      "needs_background": "light"
     },
     "output_type": "display_data"
    }
   ],
   "source": [
    "# return number of rows associated to each title\n",
    "top_ten_movies = full_df.groupby(\"movie_title\").size().sort_values(ascending=False)[:10]\n",
    "\n",
    "# plot the counts\n",
    "plt.figure(figsize=(12, 5))\n",
    "plt.barh(y= top_ten_movies.index,\n",
    "         width= top_ten_movies.values)\n",
    "plt.title(\"10 Most Rated Movies in the Data\", fontsize=16)\n",
    "plt.ylabel(\"Moive\", fontsize=14)\n",
    "plt.xlabel(\"Count\", fontsize=14)\n",
    "plt.show()"
   ]
  },
  {
   "cell_type": "code",
   "execution_count": 23,
   "id": "63062589",
   "metadata": {},
   "outputs": [
    {
     "name": "stdout",
     "output_type": "stream",
     "text": [
      "Max movies rated by one user: 737\n",
      "Min movies rated by one user: 20\n"
     ]
    },
    {
     "data": {
      "image/png": "[encoded data removed]",
      "text/plain": [
       "<Figure size 864x360 with 1 Axes>"
      ]
     },
     "metadata": {
      "needs_background": "light"
     },
     "output_type": "display_data"
    }
   ],
   "source": [
    "#number of movies rated by single user\n",
    "movies_rated = rating_df.groupby(\"user_id\").size().sort_values(ascending=False)\n",
    "print(f\"Max movies rated by one user: {max(movies_rated)}\\nMin movies rated by one user: {min(movies_rated)}\")\n",
    "rating_df.user_id.value_counts().plot.box(figsize=(12, 5))\n",
    "plt.title(\"Number of Movies rated by a Single user\", fontsize=16)\n",
    "plt.show()\n"
   ]
  },
  {
   "cell_type": "code",
   "execution_count": 24,
   "id": "e119f0fd",
   "metadata": {
    "scrolled": true
   },
   "outputs": [
    {
     "data": {
      "image/png": "[encoded data removed]",
      "text/plain": [
       "<Figure size 864x360 with 1 Axes>"
      ]
     },
     "metadata": {
      "needs_background": "light"
     },
     "output_type": "display_data"
    }
   ],
   "source": [
    "# count the number of male and female raters\n",
    "gender_counts = user_df.gender.value_counts()\n",
    "\n",
    "# plot the counts \n",
    "plt.figure(figsize=(12, 5))\n",
    "plt.bar(x= gender_counts.index[0], height=gender_counts.values[0], color=\"blue\")\n",
    "plt.bar(x= gender_counts.index[1], height=gender_counts.values[1], color=\"orange\")\n",
    "plt.title(\"Number of Male and Female Participants\", fontsize=16)\n",
    "plt.xlabel(\"Gender\", fontsize=14)\n",
    "plt.ylabel(\"Counts\", fontsize=14)\n",
    "plt.show()"
   ]
  },
  {
   "cell_type": "markdown",
   "id": "6c2cacbd",
   "metadata": {},
   "source": [
    "mean of rating by a user"
   ]
  },
  {
   "cell_type": "code",
   "execution_count": 25,
   "id": "eeda2a35",
   "metadata": {},
   "outputs": [
    {
     "data": {
      "text/plain": [
       "array([[<AxesSubplot:title={'center':'rating'}>]], dtype=object)"
      ]
     },
     "execution_count": 25,
     "metadata": {},
     "output_type": "execute_result"
    },
    {
     "data": {
      "image/png": "[encoded data removed]",
      "text/plain": [
       "<Figure size 1080x576 with 1 Axes>"
      ]
     },
     "metadata": {
      "needs_background": "light"
     },
     "output_type": "display_data"
    }
   ],
   "source": [
    "df_temp = full_df[['movie_id','rating']].groupby('movie_id').mean()\n",
    "\n",
    "df_temp.hist(bins=25, grid=False, edgecolor='b', density=True, label ='Overall', figsize=(15,8))"
   ]
  },
  {
   "cell_type": "code",
   "execution_count": 13,
   "id": "8852c55f",
   "metadata": {},
   "outputs": [
    {
     "name": "stdout",
     "output_type": "stream",
     "text": [
      "X\n",
      "[[ 196  242]\n",
      " [ 186  302]\n",
      " [  22  377]\n",
      " ...\n",
      " [ 276 1090]\n",
      " [  13  225]\n",
      " [  12  203]]\n",
      "y\n",
      "[3 3 1 ... 1 2 3]\n"
     ]
    }
   ],
   "source": [
    "X = ratings_df[['user_id', 'item_id']].values\n",
    "y = ratings_df['rating'].values\n",
    "\n",
    "print('X')\n",
    "print (X)\n",
    "print('y')\n",
    "print (y)"
   ]
  },
  {
   "cell_type": "code",
   "execution_count": 14,
   "id": "22c9d109",
   "metadata": {},
   "outputs": [],
   "source": [
    "from scipy import sparse\n"
   ]
  },
  {
   "cell_type": "code",
   "execution_count": 15,
   "id": "e51f65cc",
   "metadata": {},
   "outputs": [],
   "source": [
    "def ConvertToDense(X, y, shape):  # from R=(X,y), in sparse format \n",
    "    row  = X[:,0]\n",
    "    col  = X[:,1]\n",
    "    data = y\n",
    "    matrix_sparse = sparse.csr_matrix((data,(row,col)), shape=(shape[0]+1,shape[1]+1))  # sparse matrix in compressed format (CSR)\n",
    "    R = matrix_sparse.todense()   # todense converts the sparv=ce values to dense format(keeps a memory for nan values too)\n",
    "    R = R[1:,1:]                  #python starts from 0, so remvoing it\n",
    "    R = np.asarray(R)             # converting the dense matrix into an array formatn using numpy\n",
    "    return R"
   ]
  },
  {
   "cell_type": "code",
   "execution_count": 16,
   "id": "b3511ed3",
   "metadata": {},
   "outputs": [],
   "source": [
    "n_users = len(ratings_df['user_id'].unique())\n",
    "n_items = len(ratings_df['item_id'].unique())\n",
    "R_shape = (n_users, n_items)"
   ]
  },
  {
   "cell_type": "code",
   "execution_count": 17,
   "id": "984cf5c4",
   "metadata": {},
   "outputs": [
    {
     "name": "stdout",
     "output_type": "stream",
     "text": [
      "[[5 3 4 ... 0 0 0]\n",
      " [4 0 0 ... 0 0 0]\n",
      " [0 0 0 ... 0 0 0]\n",
      " ...\n",
      " [5 0 0 ... 0 0 0]\n",
      " [0 0 0 ... 0 0 0]\n",
      " [0 5 0 ... 0 0 0]]\n",
      "(943, 1682)\n"
     ]
    }
   ],
   "source": [
    "R = ConvertToDense(X, y, R_shape)\n",
    "print (R)\n",
    "print (R.shape)"
   ]
  },
  {
   "cell_type": "markdown",
   "id": "ae471921",
   "metadata": {},
   "source": [
    "# start of recommender system NON NEGATIVE MATRIX FACTORIZATION\n"
   ]
  },
  {
   "cell_type": "code",
   "execution_count": 26,
   "id": "d9d0ee1a",
   "metadata": {
    "scrolled": true
   },
   "outputs": [
    {
     "name": "stderr",
     "output_type": "stream",
     "text": [
      "C:\\Users\\ashwin s\\anaconda3\\lib\\site-packages\\sklearn\\decomposition\\_nmf.py:289: FutureWarning: The 'init' value, when 'init=None' and n_components is less than n_samples and n_features, will be changed from 'nndsvd' to 'nndsvda' in 1.1 (renaming of 0.26).\n",
      "  warnings.warn(\n",
      "C:\\Users\\ashwin s\\anaconda3\\lib\\site-packages\\sklearn\\decomposition\\_nmf.py:1637: ConvergenceWarning: Maximum number of iterations 200 reached. Increase it to improve convergence.\n",
      "  warnings.warn(\n"
     ]
    },
    {
     "name": "stdout",
     "output_type": "stream",
     "text": [
      "Item features - M: (1682, 20)\n",
      "User features - Theta: (943, 20)\n",
      "R ~ M * Theta.T:\n",
      "[[4.03 2.   1.03 ... 0.   0.02 0.03]\n",
      " [2.27 0.03 0.11 ... 0.01 0.   0.  ]\n",
      " [0.15 0.03 0.03 ... 0.02 0.   0.  ]\n",
      " ...\n",
      " [2.08 0.04 0.37 ... 0.   0.   0.  ]\n",
      " [1.29 0.08 0.   ... 0.02 0.01 0.  ]\n",
      " [1.41 2.24 1.42 ... 0.   0.03 0.01]]\n",
      "(943, 1682)\n"
     ]
    }
   ],
   "source": [
    "from sklearn.decomposition import NMF\n",
    "\n",
    "nmf_model = NMF(n_components=20)     # starts with 20 latents factors\n",
    "\n",
    "# Matrix factorization               # non negative matrix approximated by two non zero matrices v~w.h\n",
    "nmf_model.fit(R)                     # here r is array format which is convetred from sparse \n",
    "Theta = nmf_model.transform(R)       # user latent factors (= W, called the features matrix)\n",
    "M = nmf_model.components_.T          # item latent factors (= H.T) (H is called the coefficient matrix)\n",
    "\n",
    "# Making the predictions\n",
    "R_pred = M.dot(Theta.T)              # See http://stackoverflow.com/questions/24739121/nonnegative-matrix-factorization-in-sklearn\n",
    "R_pred = R_pred.T                    # same dimensions as R\n",
    "\n",
    "print('Item features - M:', M.shape)\n",
    "print ('User features - Theta:', Theta.shape)\n",
    "print ('R ~ M * Theta.T:')\n",
    "print (R_pred.round(2))\n",
    "print (R_pred.shape)"
   ]
  },
  {
   "cell_type": "markdown",
   "id": "df1493e1",
   "metadata": {},
   "source": [
    "# function for recommending \n"
   ]
  },
  {
   "cell_type": "code",
   "execution_count": 27,
   "id": "254e06a6",
   "metadata": {},
   "outputs": [],
   "source": [
    "def make_recommendation_activeuser(R, prediction, user_idx, k=5):\n",
    "    '''\n",
    "    user_idx ...... select an active user\n",
    "    k  ............ number of movies to recommend\n",
    "    '''\n",
    "    rated_items_df_user = pd.DataFrame(R).iloc[user_idx, :]                 # get the list of actual ratings of user_idx (seen movies)\n",
    "    user_prediction_df_user = pd.DataFrame(prediction).iloc[user_idx,:]     # get the list of predicted ratings of user_idx (unseen movies)\n",
    "    reco_df = pd.concat([rated_items_df_user, user_prediction_df_user, item_info], axis=1)   # merge both lists with the movie's title\n",
    "    reco_df.columns = ['rating','prediction','title']\n",
    "\n",
    "    print ('Preferred movies for user #', user_idx)\n",
    "    print (reco_df.sort_values(by='rating', ascending=False)[:k])             # returns the 5 seen movies with the best actual ratings\n",
    "    print ('Recommended movies for user #', user_idx)\n",
    "    reco_df = reco_df[ reco_df['rating'] == 0 ]\n",
    "    print(reco_df.sort_values(by='prediction', ascending=False)[:k])         # returns the 5 unseen movies with the best predicted ratings\n",
    "\n"
   ]
  },
  {
   "cell_type": "code",
   "execution_count": 33,
   "id": "de5e06ce",
   "metadata": {
    "scrolled": true
   },
   "outputs": [
    {
     "name": "stdout",
     "output_type": "stream",
     "text": [
      "Preferred movies for user # 900\n",
      "      rating  prediction                                      title\n",
      "0          5    3.880258                           Toy Story (1995)\n",
      "434        5    2.374003  Butch Cassidy and the Sundance Kid (1969)\n",
      "565        5    1.908164            Clear and Present Danger (1994)\n",
      "418        5    2.651163                        Mary Poppins (1964)\n",
      "1604       5    0.030513                       Love Serenade (1996)\n",
      "Recommended movies for user # 900\n",
      "     rating  prediction                                   title\n",
      "201       0    3.591540                    Groundhog Day (1993)\n",
      "587       0    3.141094             Beauty and the Beast (1991)\n",
      "78        0    3.010820                    Fugitive, The (1993)\n",
      "172       0    2.870292              Princess Bride, The (1987)\n",
      "98        0    2.581187  Snow White and the Seven Dwarfs (1937)\n",
      "Preferred movies for user # 56\n",
      "     rating  prediction                             title\n",
      "0         5    4.446674                  Toy Story (1995)\n",
      "281       5    3.044666            Time to Kill, A (1996)\n",
      "63        5    1.527965  Shawshank Redemption, The (1994)\n",
      "78        5    2.127381              Fugitive, The (1993)\n",
      "41        5    0.753645                     Clerks (1994)\n",
      "Recommended movies for user # 56\n",
      "     rating  prediction                           title\n",
      "741       0    3.820905                   Ransom (1996)\n",
      "117       0    3.810810                  Twister (1996)\n",
      "299       0    2.974915            Air Force One (1997)\n",
      "24        0    2.601983            Birdcage, The (1996)\n",
      "173       0    2.464524  Raiders of the Lost Ark (1981)\n",
      "Preferred movies for user # 78\n",
      "     rating  prediction                        title\n",
      "268       5    3.779609       Full Monty, The (1997)\n",
      "284       5    4.064456        Secrets & Lies (1996)\n",
      "257       5    2.454673               Contact (1997)\n",
      "285       5    5.208260  English Patient, The (1996)\n",
      "514       5    1.678549             Boot, Das (1981)\n",
      "Recommended movies for user # 78\n",
      "     rating  prediction                     title\n",
      "8         0    3.536880   Dead Man Walking (1995)\n",
      "13        0    3.479843        Postino, Il (1994)\n",
      "126       0    3.055437     Godfather, The (1972)\n",
      "301       0    2.701346  L.A. Confidential (1997)\n",
      "474       0    2.527275      Trainspotting (1996)\n",
      "Preferred movies for user # 69\n",
      "     rating  prediction                            title\n",
      "510       5    0.833845        Lawrence of Arabia (1962)\n",
      "418       5    4.110046              Mary Poppins (1964)\n",
      "587       5    4.755071      Beauty and the Beast (1991)\n",
      "482       5    1.799513                Casablanca (1942)\n",
      "171       5    4.577475  Empire Strikes Back, The (1980)\n",
      "Recommended movies for user # 69\n",
      "     rating  prediction                                title\n",
      "194       0    2.839459               Terminator, The (1984)\n",
      "464       0    2.529317              Jungle Book, The (1994)\n",
      "257       0    2.505776                       Contact (1997)\n",
      "153       0    2.401958  Monty Python's Life of Brian (1979)\n",
      "195       0    2.386267            Dead Poets Society (1989)\n",
      "Preferred movies for user # 48\n",
      "     rating  prediction                                   title\n",
      "174       5    2.245162                           Brazil (1985)\n",
      "184       5    1.739468                           Psycho (1960)\n",
      "90        5    2.216549  Nightmare Before Christmas, The (1993)\n",
      "92        5    1.997980         Welcome to the Dollhouse (1995)\n",
      "261       5    0.704254            In the Company of Men (1997)\n",
      "Recommended movies for user # 48\n",
      "     rating  prediction                     title\n",
      "287       0    2.607892             Scream (1996)\n",
      "149       0    2.223919           Swingers (1996)\n",
      "22        0    2.178646        Taxi Driver (1976)\n",
      "275       0    2.147038  Leaving Las Vegas (1995)\n",
      "233       0    2.106643               Jaws (1975)\n"
     ]
    }
   ],
   "source": [
    "make_recommendation_activeuser(R, R_pred, user_idx=900, k=5)\n",
    "make_recommendation_activeuser(R, R_pred, user_idx=56, k=5)\n",
    "make_recommendation_activeuser(R, R_pred, user_idx=78, k=5)\n",
    "make_recommendation_activeuser(R, R_pred, user_idx=69, k=5)\n",
    "make_recommendation_activeuser(R, R_pred, user_idx=48, k=5)"
   ]
  },
  {
   "cell_type": "code",
   "execution_count": null,
   "id": "633cf8c9",
   "metadata": {},
   "outputs": [],
   "source": []
  }
 ],
 "metadata": {
  "kernelspec": {
   "display_name": "Python 3 (ipykernel)",
   "language": "python",
   "name": "python3"
  },
  "language_info": {
   "codemirror_mode": {
    "name": "ipython",
    "version": 3
   },
   "file_extension": ".py",
   "mimetype": "text/x-python",
   "name": "python",
   "nbconvert_exporter": "python",
   "pygments_lexer": "ipython3",
   "version": "3.9.12"
  }
 },
 "nbformat": 4,
 "nbformat_minor": 5
}
